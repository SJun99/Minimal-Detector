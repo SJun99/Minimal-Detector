{
  "nbformat": 4,
  "nbformat_minor": 0,
  "metadata": {
    "colab": {
      "provenance": [],
      "gpuType": "T4",
      "mount_file_id": "1GX0DccjglK-9h7hLXTSdqH3NTYBXJthb",
      "authorship_tag": "ABX9TyObRSLKeK9+Tlm22AhWQSTq",
      "include_colab_link": true
    },
    "kernelspec": {
      "name": "python3",
      "display_name": "Python 3"
    },
    "language_info": {
      "name": "python"
    },
    "accelerator": "GPU"
  },
  "cells": [
    {
      "cell_type": "markdown",
      "metadata": {
        "id": "view-in-github",
        "colab_type": "text"
      },
      "source": [
        "<a href=\"https://colab.research.google.com/github/SJun99/Minimal-Detector/blob/main/minimal_detector.ipynb\" target=\"_parent\"><img src=\"https://colab.research.google.com/assets/colab-badge.svg\" alt=\"Open In Colab\"/></a>"
      ]
    },
    {
      "cell_type": "code",
      "source": [
        "%cd /content/\n",
        "!rm -rf *\n",
        "!mkdir -p work/ckpt/aquarium work/data/aquarium work/result/aquarium"
      ],
      "metadata": {
        "colab": {
          "base_uri": "https://localhost:8080/"
        },
        "id": "AaoeiAgJPwSD",
        "outputId": "f9e29fee-1538-4d50-af01-b4465e0bb669"
      },
      "execution_count": null,
      "outputs": [
        {
          "output_type": "stream",
          "name": "stdout",
          "text": [
            "/content\n"
          ]
        }
      ]
    },
    {
      "cell_type": "code",
      "source": [
        "%cd work/data/aquarium/\n",
        "!curl -L \"https://public.roboflow.com/ds/RHXEwEVcDS?key=3a3OmzHDjv\" > roboflow.zip; unzip roboflow.zip; rm roboflow.zip"
      ],
      "metadata": {
        "collapsed": true,
        "id": "fmgXt8UiQkGW"
      },
      "execution_count": null,
      "outputs": []
    },
    {
      "cell_type": "code",
      "source": [
        "%cd /content/work/\n",
        "!mkdir -p detector\n",
        "%cd detector\n",
        "!touch dataset.py backbone.py detector.py criterion.py litn_model.py train.py"
      ],
      "metadata": {
        "colab": {
          "base_uri": "https://localhost:8080/"
        },
        "id": "_BrC7jgVQvKb",
        "outputId": "8e5cb449-0419-454a-d1df-c8928a705efc"
      },
      "execution_count": null,
      "outputs": [
        {
          "output_type": "stream",
          "name": "stdout",
          "text": [
            "/content/work\n",
            "/content/work/detector\n"
          ]
        }
      ]
    },
    {
      "cell_type": "code",
      "source": [
        "!pip install torch torchvision transformers pytorch-lightning Pillow numpy opencv-python scikit-learn"
      ],
      "metadata": {
        "collapsed": true,
        "id": "o9pwyk0WUpkw"
      },
      "execution_count": null,
      "outputs": []
    },
    {
      "cell_type": "code",
      "source": [
        "!python dataset.py"
      ],
      "metadata": {
        "id": "n4UqxE4mVNmU"
      },
      "execution_count": null,
      "outputs": []
    },
    {
      "cell_type": "code",
      "source": [
        "!python backbone.py"
      ],
      "metadata": {
        "id": "cd_yTxl9Xwqp"
      },
      "execution_count": null,
      "outputs": []
    },
    {
      "cell_type": "code",
      "source": [
        "!python detector.py"
      ],
      "metadata": {
        "id": "SIUujbQoSAZe"
      },
      "execution_count": null,
      "outputs": []
    },
    {
      "cell_type": "code",
      "source": [
        "from google.colab import drive\n",
        "drive.mount('/content/drive')"
      ],
      "metadata": {
        "id": "LxpovbJadT-V"
      },
      "execution_count": null,
      "outputs": []
    },
    {
      "cell_type": "code",
      "source": [
        "!python train.py"
      ],
      "metadata": {
        "id": "xicuB7oOZMIF"
      },
      "execution_count": null,
      "outputs": []
    },
    {
      "cell_type": "code",
      "source": [
        "!cd\n",
        "!cp -r /content/work /content/drive/MyDrive/Colab\\ Notebooks/Minimal_Detector"
      ],
      "metadata": {
        "id": "3k2gM2S7egxx"
      },
      "execution_count": 22,
      "outputs": []
    }
  ]
}